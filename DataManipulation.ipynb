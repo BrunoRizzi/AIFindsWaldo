{
 "cells": [
  {
   "cell_type": "markdown",
   "metadata": {},
   "source": [
    "**Imports**"
   ]
  },
  {
   "cell_type": "code",
   "execution_count": 1,
   "metadata": {},
   "outputs": [],
   "source": [
    "from PIL import Image\n",
    "import os"
   ]
  },
  {
   "cell_type": "markdown",
   "metadata": {},
   "source": [
    "**Constants**"
   ]
  },
  {
   "cell_type": "code",
   "execution_count": 2,
   "metadata": {},
   "outputs": [],
   "source": [
    "PASTA = 'C:\\\\Users\\\\Bruno\\\\Downloads\\\\Projetos\\\\AIFindsWaldo\\\\Hey-Waldo\\\\'\n",
    "WALDO_IMAGES = '64-waldo\\\\'\n",
    "ORIGINAL_IMAGES = 'original-images\\\\'\n",
    "CROPPED_IMAGES = 'cropped-images\\\\'\n",
    "RESHAPED_IMAGES = 'reshaped-images\\\\'"
   ]
  },
  {
   "cell_type": "markdown",
   "metadata": {},
   "source": [
    "**Reshape Original Images**"
   ]
  },
  {
   "cell_type": "code",
   "execution_count": 2,
   "metadata": {},
   "outputs": [
    {
     "ename": "IndentationError",
     "evalue": "unexpected indent (<ipython-input-2-e776498a288a>, line 3)",
     "output_type": "error",
     "traceback": [
      "\u001b[1;36m  File \u001b[1;32m\"<ipython-input-2-e776498a288a>\"\u001b[1;36m, line \u001b[1;32m3\u001b[0m\n\u001b[1;33m    image = Image.open('original-images//' + 'R71zrLM.jpg')\u001b[0m\n\u001b[1;37m    ^\u001b[0m\n\u001b[1;31mIndentationError\u001b[0m\u001b[1;31m:\u001b[0m unexpected indent\n"
     ]
    }
   ],
   "source": [
    "i = 0\n",
    "for filename in os.listdir(ORIGINAL_IMAGES):\n",
    "    image = Image.open(PASTA + ORIGINAL_IMAGES + filename)\n",
    "    w,h = image.size\n",
    "    new_w = round(w/64)*64\n",
    "    new_h = round(h/64)*64\n",
    "    new_image = image.resize((new_w, new_h))\n",
    "    new_image.save(PASTA + RESHAPED_IMAGES + str(i) + '.jpg')\n",
    "    i += 1"
   ]
  },
  {
   "cell_type": "markdown",
   "metadata": {},
   "source": [
    "**Crop Reshaped Images**"
   ]
  },
  {
   "cell_type": "code",
   "execution_count": 3,
   "metadata": {},
   "outputs": [],
   "source": [
    "for filename in os.listdir(PASTA + RESHAPED_IMAGES):\n",
    "    im = Image.open(PASTA + RESHAPED_IMAGES + filename)\n",
    "    imgwidth, imgheight = im.size\n",
    "    for i in range(0,imgheight,64):\n",
    "        for j in range(0,imgwidth,64):\n",
    "            box = (j, i, j+64, i+64)\n",
    "            a = im.crop(box)\n",
    "            file = PASTA +  + filename.split('.')[0] + '-h' + str(i) + ' w' + str(j) + '.jpeg'\n",
    "            a.save(fp = file)"
   ]
  },
  {
   "cell_type": "markdown",
   "metadata": {},
   "source": [
    "**Manually separates Waldo cropped images**<br>\n",
    "**.......Waldo Images go to 64-waldo**<br>\n",
    "**.......The rest goes to 64-notwaldo**"
   ]
  },
  {
   "cell_type": "markdown",
   "metadata": {},
   "source": [
    "**Oversampling Waldo Images** "
   ]
  },
  {
   "cell_type": "code",
   "execution_count": null,
   "metadata": {},
   "outputs": [],
   "source": [
    "imgGen = ImageDataGenerator(\n",
    "    rotation_range = 40,\n",
    "    width_shift_range = 0.3,\n",
    "    height_shift_range = 0.3,\n",
    "    rescale = 1./255,\n",
    "    shear_range = 0.2,\n",
    "    zoom_range = 0.2,\n",
    "    horizontal_flip = True)\n",
    "for x in os.listdir(PASTA + WALDO_IMAGES):\n",
    "    i = 1\n",
    "    for batch in imgGen.flow(x, batch_size=1, save_to_dir=PASTA + WALDO_IMAGES, save_format='jpeg', save_prefix='all'):\n",
    "        i += 1\n",
    "        if i > 50:\n",
    "            break"
   ]
  }
 ],
 "metadata": {
  "kernelspec": {
   "display_name": "Python 3",
   "language": "python",
   "name": "python3"
  },
  "language_info": {
   "codemirror_mode": {
    "name": "ipython",
    "version": 3
   },
   "file_extension": ".py",
   "mimetype": "text/x-python",
   "name": "python",
   "nbconvert_exporter": "python",
   "pygments_lexer": "ipython3",
   "version": "3.7.6"
  }
 },
 "nbformat": 4,
 "nbformat_minor": 4
}
